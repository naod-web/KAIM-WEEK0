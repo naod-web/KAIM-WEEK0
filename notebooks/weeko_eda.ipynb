{
 "cells": [
  {
   "cell_type": "code",
   "execution_count": null,
   "metadata": {},
   "outputs": [],
   "source": [
    "import pandas as pd\n",
    "import numpy as np\n",
    "import matplotlib.pyplot as plt\n",
    "import seaborn as sns\n",
    "from scipy.stats import zscore\n",
    "import plotly.express as px"
   ]
  },
  {
   "cell_type": "code",
   "execution_count": null,
   "metadata": {},
   "outputs": [],
   "source": [
    "# Load data\n",
    "data = pd.read_csv(\"F:\\KAIM-WEEK0\\data\")"
   ]
  },
  {
   "cell_type": "code",
   "execution_count": null,
   "metadata": {},
   "outputs": [],
   "source": [
    "# 1. Summary Statistics\n",
    "summary_stats = data.describe()\n",
    "print(\"Summary Statistics:\")\n",
    "print(summary_stats)"
   ]
  },
  {
   "cell_type": "code",
   "execution_count": null,
   "metadata": {},
   "outputs": [],
   "source": [
    "# 2. Data Quality Check\n",
    "missing_values = data.isnull().sum()\n",
    "print(\"\\nMissing Values:\")\n",
    "print(missing_values)"
   ]
  },
  {
   "cell_type": "code",
   "execution_count": null,
   "metadata": {},
   "outputs": [],
   "source": [
    "# Check for negative values in GHI, DNI, DHI\n",
    "negative_values = data[(data['GHI'] < 0) | (data['DNI'] < 0) | (data['DHI'] < 0)]\n",
    "print(\"\\nNegative Values:\")\n",
    "print(negative_values)"
   ]
  },
  {
   "cell_type": "code",
   "execution_count": null,
   "metadata": {},
   "outputs": [],
   "source": [
    "# 3. Outlier Detection (Z-score)\n",
    "columns_to_check = ['GHI', 'DNI', 'DHI', 'WS', 'WSgust', 'ModA', 'ModB']\n",
    "data['Z_Score_Outliers'] = data[columns_to_check].apply(lambda x: np.abs(zscore(x)), axis=0).max(axis=1)\n",
    "outliers = data[data['Z_Score_Outliers'] > 3]\n",
    "print(\"\\nOutliers Detected:\")\n",
    "print(outliers)"
   ]
  },
  {
   "cell_type": "code",
   "execution_count": null,
   "metadata": {},
   "outputs": [],
   "source": [
    "# 4. Time Series Analysis\n",
    "# Plot GHI, DNI, DHI, and Tamb over time\n",
    "data['Date'] = pd.to_datetime(data['Date'])\n",
    "data.set_index('Date', inplace=True)\n",
    "data[['GHI', 'DNI', 'DHI', 'Tamb']].plot(figsize=(14, 7), title=\"Time Series Analysis\")\n",
    "plt.show()"
   ]
  },
  {
   "cell_type": "code",
   "execution_count": null,
   "metadata": {},
   "outputs": [],
   "source": [
    "# 5. Evaluate the Impact of Cleaning\n",
    "cleaned_data = data[data['Cleaning'] == 'Yes']\n",
    "uncleaned_data = data[data['Cleaning'] == 'No']\n",
    "\n",
    "plt.figure(figsize=(10, 5))\n",
    "plt.plot(cleaned_data.index, cleaned_data['ModA'], label='Cleaned - ModA')\n",
    "plt.plot(uncleaned_data.index, uncleaned_data['ModA'], label='Uncleaned - ModA', alpha=0.6)\n",
    "plt.legend()\n",
    "plt.title('Impact of Cleaning on Sensor Readings (ModA)')\n",
    "plt.show()"
   ]
  },
  {
   "cell_type": "code",
   "execution_count": null,
   "metadata": {},
   "outputs": [],
   "source": [
    "# 6. Correlation Analysis\n",
    "correlation_matrix = data[['GHI', 'DNI', 'DHI', 'TModA', 'TModB', 'WS', 'WSgust', 'WD']].corr()\n",
    "sns.heatmap(correlation_matrix, annot=True, cmap=\"coolwarm\")\n",
    "plt.title(\"Correlation Matrix\")\n",
    "plt.show()"
   ]
  },
  {
   "cell_type": "code",
   "execution_count": null,
   "metadata": {},
   "outputs": [],
   "source": [
    "# 7. Wind Analysis\n",
    "# Using Wind Roses\n",
    "import matplotlib.cm as cm\n",
    "from windrose import WindroseAxes\n",
    "\n",
    "def plot_wind_rose(speed, direction):\n",
    "    ax = WindroseAxes.from_ax()\n",
    "    ax.bar(direction, speed, normed=True, opening=0.8, edgecolor='white', cmap=cm.viridis)\n",
    "    ax.set_legend()\n",
    "    plt.show()\n",
    "\n",
    "plot_wind_rose(data['WS'], data['WD'])"
   ]
  },
  {
   "cell_type": "code",
   "execution_count": null,
   "metadata": {},
   "outputs": [],
   "source": [
    "# 8. Temperature and Humidity Analysis\n",
    "sns.scatterplot(x='RH', y='Tamb', data=data)\n",
    "plt.title('Relative Humidity vs Temperature')\n",
    "plt.show()"
   ]
  },
  {
   "cell_type": "code",
   "execution_count": null,
   "metadata": {},
   "outputs": [],
   "source": [
    "# 9. Histograms\n",
    "hist_columns = ['GHI', 'DNI', 'DHI', 'WS', 'Tamb']\n",
    "data[hist_columns].hist(bins=20, figsize=(14, 10), edgecolor='black')\n",
    "plt.suptitle('Histograms of Variables')\n",
    "plt.show()"
   ]
  },
  {
   "cell_type": "code",
   "execution_count": null,
   "metadata": {},
   "outputs": [],
   "source": [
    "# 10. Z-Score Analysis\n",
    "z_scores = data[columns_to_check].apply(zscore)\n",
    "z_outliers = (z_scores > 3).sum()\n",
    "print(\"\\nZ-Score Outlier Counts:\")\n",
    "print(z_outliers)"
   ]
  },
  {
   "cell_type": "code",
   "execution_count": null,
   "metadata": {},
   "outputs": [],
   "source": [
    "# 11. Bubble Chart\n",
    "fig = px.scatter(data, x='GHI', y='Tamb', size='RH', color='WS', hover_data=['BP'], title=\"Bubble Chart: GHI vs Tamb vs WS\")\n",
    "fig.show()"
   ]
  },
  {
   "cell_type": "code",
   "execution_count": null,
   "metadata": {},
   "outputs": [],
   "source": [
    "# 12. Data Cleaning\n",
    "# Remove rows with missing values or impute them if needed\n",
    "cleaned_data = data.dropna()\n",
    "\n",
    "# Example: Handling comments column\n",
    "cleaned_data = cleaned_data.drop(columns=['Comments'])\n",
    "\n",
    "print(\"\\nCleaned Data Sample:\")\n",
    "print(cleaned_data.head())"
   ]
  }
 ],
 "metadata": {
  "language_info": {
   "name": "python"
  }
 },
 "nbformat": 4,
 "nbformat_minor": 2
}
